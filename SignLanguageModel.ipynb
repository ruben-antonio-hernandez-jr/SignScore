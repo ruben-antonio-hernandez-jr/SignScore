{
 "cells": [
  {
   "cell_type": "code",
   "execution_count": null,
   "id": "e9425095",
   "metadata": {},
   "outputs": [],
   "source": [
    "####### TO RUN A PRE-TRAINED MODEL, FOLLOW THE INSTRUCTIONS BELOW #######\n",
    "    # import necessary basic libraries (STEP 1)\n",
    "    # establish holistic and drawing mediapipe variables (STEP 2)\n",
    "    # run required functions (STEPS 3 - 6)\n",
    "    # import tensorflow and keras packages (STEP 7)\n",
    "    # establish model variable (STEP 8)\n",
    "    # load pre-trained model (STEP 9)\n",
    "    # import scipy stats (STEP 10)\n",
    "    # run real-time testing (STEP 11)"
   ]
  },
  {
   "cell_type": "code",
   "execution_count": null,
   "id": "5cd46b5e",
   "metadata": {},
   "outputs": [],
   "source": [
    "!pip install tensorflow==2.12.0 opencv-python scikit-learn matplotlib mediapipe"
   ]
  },
  {
   "cell_type": "code",
   "execution_count": null,
   "id": "d90a5901",
   "metadata": {},
   "outputs": [],
   "source": [
    "### STEP 1 ###\n",
    "from matplotlib import pyplot as plt\n",
    "import numpy as np\n",
    "import mediapipe as mp\n",
    "import cv2\n",
    "import os\n",
    "import time"
   ]
  },
  {
   "cell_type": "code",
   "execution_count": null,
   "id": "56fe41f6",
   "metadata": {},
   "outputs": [],
   "source": [
    "### STEP 2 ###\n",
    "mpHolistic = mp.solutions.holistic\n",
    "mpDrawing = mp.solutions.drawing_utils"
   ]
  },
  {
   "cell_type": "code",
   "execution_count": null,
   "id": "f09e0cf0",
   "metadata": {},
   "outputs": [],
   "source": [
    "### STEP 3 ###\n",
    "def mp_detection(image, model):\n",
    "    image = cv2.cvtColor(image, cv2.COLOR_BGR2RGB) # Write colors to RGB\n",
    "    image.flags.writeable = False                  # Image unwritable\n",
    "    results = model.process(image)                 # Process image\n",
    "    image.flags.writeable = True                   # Image writeable \n",
    "    image = cv2.cvtColor(image, cv2.COLOR_RGB2BGR) # Convert colors back to BGR\n",
    "    return image, results"
   ]
  },
  {
   "cell_type": "code",
   "execution_count": null,
   "id": "c15c19a3",
   "metadata": {},
   "outputs": [],
   "source": [
    "### STEP 4 ###\n",
    "def draw_landmarks(image, results):\n",
    "    mpDrawing.draw_landmarks(image, results.pose_landmarks, mpHolistic.POSE_CONNECTIONS) # Draw pose connections\n",
    "    mpDrawing.draw_landmarks(image, results.left_hand_landmarks, mpHolistic.HAND_CONNECTIONS) # Draw left hand connections\n",
    "    mpDrawing.draw_landmarks(image, results.right_hand_landmarks, mpHolistic.HAND_CONNECTIONS) # Draw right hand connection"
   ]
  },
  {
   "cell_type": "code",
   "execution_count": null,
   "id": "6e2d13f2",
   "metadata": {},
   "outputs": [],
   "source": [
    "### STEP 5 ###\n",
    "def draw_styled_landmarks(image, results):\n",
    "    # Draw pose connections\n",
    "    mpDrawing.draw_landmarks(image, results.pose_landmarks, mpHolistic.POSE_CONNECTIONS,\n",
    "                             mpDrawing.DrawingSpec(color=(80,22,10), thickness=2, circle_radius=4), \n",
    "                             mpDrawing.DrawingSpec(color=(80,44,121), thickness=2, circle_radius=2)\n",
    "                             ) \n",
    "    # Draw left hand connections\n",
    "    mpDrawing.draw_landmarks(image, results.left_hand_landmarks, mpHolistic.HAND_CONNECTIONS, \n",
    "                             mpDrawing.DrawingSpec(color=(121,22,76), thickness=2, circle_radius=4), \n",
    "                             mpDrawing.DrawingSpec(color=(121,44,250), thickness=2, circle_radius=2)\n",
    "                             ) \n",
    "    # Draw right hand connections  \n",
    "    mpDrawing.draw_landmarks(image, results.right_hand_landmarks, mpHolistic.HAND_CONNECTIONS, \n",
    "                             mpDrawing.DrawingSpec(color=(245,117,66), thickness=2, circle_radius=4), \n",
    "                             mpDrawing.DrawingSpec(color=(245,66,230), thickness=2, circle_radius=2)\n",
    "                             ) "
   ]
  },
  {
   "cell_type": "code",
   "execution_count": null,
   "id": "568e1923",
   "metadata": {},
   "outputs": [],
   "source": [
    "cap = cv2.VideoCapture(0)\n",
    "# Set model \n",
    "with mpHolistic.Holistic(min_detection_confidence=0.5, min_tracking_confidence=0.5) as holistic:\n",
    "    while cap.isOpened():\n",
    "        ret, frame = cap.read()\n",
    "        image, results = mp_detection(frame, holistic)\n",
    "        print(results)\n",
    "        \n",
    "        draw_styled_landmarks(image, results)\n",
    "\n",
    "        cv2.imshow('OpenCV Feed', image)\n",
    "\n",
    "        # Close window\n",
    "        if cv2.waitKey(10) & 0xFF == ord('q'):\n",
    "            break\n",
    "    cap.release()\n",
    "    cv2.destroyAllWindows()"
   ]
  },
  {
   "cell_type": "code",
   "execution_count": null,
   "id": "81eada63",
   "metadata": {},
   "outputs": [],
   "source": [
    "draw_landmarks(frame, results)"
   ]
  },
  {
   "cell_type": "code",
   "execution_count": null,
   "id": "66aa1ab6",
   "metadata": {},
   "outputs": [],
   "source": [
    "plt.imshow(cv2.cvtColor(frame, cv2.COLOR_BGR2RGB))"
   ]
  },
  {
   "cell_type": "code",
   "execution_count": null,
   "id": "698bff60",
   "metadata": {},
   "outputs": [],
   "source": [
    "pose = np.array([[res.x, res.y, res.z, res.visibility] for res in results.pose_landmarks.landmark]).flatten() if results.pose_landmarks else np.zeros(132)\n",
    "lh = np.array([[res.x, res.y, res.z] for res in results.left_hand_landmarks.landmark]).flatten() if results.left_hand_landmarks else np.zeros(21*3)\n",
    "rh = np.array([[res.x, res.y, res.z] for res in results.right_hand_landmarks.landmark]).flatten() if results.right_hand_landmarks else np.zeros(21*3)"
   ]
  },
  {
   "cell_type": "code",
   "execution_count": null,
   "id": "be08ff6c",
   "metadata": {},
   "outputs": [],
   "source": [
    "### STEP 6 ###\n",
    "def extract_keypoints(results):\n",
    "    pose = np.array([[res.x, res.y, res.z, res.visibility] for res in results.pose_landmarks.landmark]).flatten() if results.pose_landmarks else np.zeros(33*4)\n",
    "    lh = np.array([[res.x, res.y, res.z] for res in results.left_hand_landmarks.landmark]).flatten() if results.left_hand_landmarks else np.zeros(21*3)\n",
    "    rh = np.array([[res.x, res.y, res.z] for res in results.right_hand_landmarks.landmark]).flatten() if results.right_hand_landmarks else np.zeros(21*3)\n",
    "    return np.concatenate([pose, lh, rh])"
   ]
  },
  {
   "cell_type": "code",
   "execution_count": null,
   "id": "7c47d03a",
   "metadata": {},
   "outputs": [],
   "source": [
    "result_test = extract_keypoints(results)"
   ]
  },
  {
   "cell_type": "code",
   "execution_count": null,
   "id": "0ee7bed5",
   "metadata": {},
   "outputs": [],
   "source": [
    "np.save('0', result_test)"
   ]
  },
  {
   "cell_type": "code",
   "execution_count": null,
   "id": "6eaaaa4d",
   "metadata": {},
   "outputs": [],
   "source": [
    "#Exported data\n",
    "DATA_PATH = os.path.join('/Users/User/Desktop/SignScore/MP_Data') \n",
    "\n",
    "# Signs to train\n",
    "actions1 = np.array(['hello', 'goodbye', 'thankyou'])\n",
    "actions2 = np.array(['how', 'are you', 'take care'])\n",
    "\n",
    "# Fifty videos for each sign\n",
    "no_sequences = 50\n",
    "\n",
    "# 10 frames per video\n",
    "sequence_length = 10"
   ]
  },
  {
   "cell_type": "code",
   "execution_count": null,
   "id": "a886647e",
   "metadata": {},
   "outputs": [],
   "source": [
    "def makeFiles(actions):\n",
    "    for action in actions: \n",
    "        for sequence in range(1,no_sequences+1):\n",
    "            try: \n",
    "                os.makedirs(os.path.join(DATA_PATH, action, str(sequence)))\n",
    "            except:\n",
    "                pass"
   ]
  },
  {
   "cell_type": "code",
   "execution_count": null,
   "id": "7b14e78f",
   "metadata": {},
   "outputs": [],
   "source": [
    "makeFiles(actions1)\n",
    "makeFiles(actions2)"
   ]
  },
  {
   "cell_type": "code",
   "execution_count": null,
   "id": "b9af5fa8",
   "metadata": {},
   "outputs": [],
   "source": [
    "def collectData(actions):\n",
    "    cap = cv2.VideoCapture(0)\n",
    "    # Set mediapipe model \n",
    "    with mpHolistic.Holistic(min_detection_confidence=0.5, min_tracking_confidence=0.5) as holistic:\n",
    "\n",
    "        # NEW LOOP\n",
    "        # Loop through actions\n",
    "        for action in actions:\n",
    "            # Loop through sequences aka videos\n",
    "            for sequence in range(1,no_sequences+1):\n",
    "                # Loop through video length aka sequence length\n",
    "                for frame_num in range(1,sequence_length+1):\n",
    "\n",
    "                    # Read feed\n",
    "                    ret, frame = cap.read()\n",
    "\n",
    "                    # Make detections\n",
    "                    image, results = mp_detection(frame, holistic)\n",
    "\n",
    "                    # Draw landmarks\n",
    "                    draw_styled_landmarks(image, results)\n",
    "\n",
    "                    # NEW Apply wait logic\n",
    "                    if frame_num == 0: \n",
    "                        cv2.putText(image, 'STARTING COLLECTION', (120,200), \n",
    "                                   cv2.FONT_HERSHEY_SIMPLEX, 1, (0,255, 0), 4, cv2.LINE_AA)\n",
    "                        cv2.putText(image, 'Collecting frames for {} Video Number {}'.format(action, sequence), (15,12), \n",
    "                                   cv2.FONT_HERSHEY_SIMPLEX, 0.5, (0, 0, 255), 1, cv2.LINE_AA)\n",
    "                        # Show to screen\n",
    "                        cv2.imshow('OpenCV Feed', image)\n",
    "                        cv2.waitKey(500)\n",
    "                    else: \n",
    "                        cv2.putText(image, 'Collecting frames for {} Video Number {}'.format(action, sequence), (15,12), \n",
    "                                   cv2.FONT_HERSHEY_SIMPLEX, 0.5, (0, 0, 255), 1, cv2.LINE_AA)\n",
    "                        # Show to screen\n",
    "                        cv2.imshow('OpenCV Feed', image)\n",
    "\n",
    "                    # NEW Export keypoints\n",
    "                    keypoints = extract_keypoints(results)\n",
    "                    npy_path = os.path.join(DATA_PATH, action, str(sequence), str(frame_num))\n",
    "                    np.save(npy_path, keypoints)\n",
    "\n",
    "                    # Break gracefully\n",
    "                    if cv2.waitKey(10) & 0xFF == ord('q'):\n",
    "                        break\n",
    "\n",
    "        cap.release()\n",
    "        cv2.destroyAllWindows()"
   ]
  },
  {
   "cell_type": "code",
   "execution_count": null,
   "id": "f279fe6b",
   "metadata": {},
   "outputs": [],
   "source": [
    "collectData(actions1)"
   ]
  },
  {
   "cell_type": "code",
   "execution_count": null,
   "id": "8580e14c",
   "metadata": {},
   "outputs": [],
   "source": [
    "collectData(actions2)"
   ]
  },
  {
   "cell_type": "code",
   "execution_count": null,
   "id": "ed6282a5",
   "metadata": {},
   "outputs": [],
   "source": [
    "actions = np.concatenate((actions1, actions2), axis=None) #combine all signs into one array"
   ]
  },
  {
   "cell_type": "code",
   "execution_count": null,
   "id": "f03fc66b",
   "metadata": {},
   "outputs": [],
   "source": [
    "label_map = {label:num for num, label in enumerate(actions)} #set labels\n",
    "label_map"
   ]
  },
  {
   "cell_type": "code",
   "execution_count": null,
   "id": "f0da9d3f",
   "metadata": {},
   "outputs": [],
   "source": [
    "sequences, labels = [], []"
   ]
  },
  {
   "cell_type": "code",
   "execution_count": null,
   "id": "03167560",
   "metadata": {},
   "outputs": [],
   "source": [
    "for action in actions:\n",
    "    for sequence in np.array(os.listdir(os.path.join(DATA_PATH, action))).astype(int):\n",
    "        window = []\n",
    "        for frame_num in range(1,sequence_length+1):\n",
    "            res = np.load(os.path.join(DATA_PATH, action, str(sequence), \"{}.npy\".format(frame_num)))\n",
    "            window.append(res)\n",
    "        sequences.append(window)\n",
    "        labels.append(label_map[action])"
   ]
  },
  {
   "cell_type": "code",
   "execution_count": null,
   "id": "67a12713",
   "metadata": {},
   "outputs": [],
   "source": [
    "np.array(sequences).shape"
   ]
  },
  {
   "cell_type": "code",
   "execution_count": null,
   "id": "75f24313",
   "metadata": {},
   "outputs": [],
   "source": [
    "np.array(labels).shape"
   ]
  },
  {
   "cell_type": "code",
   "execution_count": null,
   "id": "dc8035e9",
   "metadata": {},
   "outputs": [],
   "source": [
    "X = np.array(sequences)\n",
    "X.shape"
   ]
  },
  {
   "cell_type": "code",
   "execution_count": null,
   "id": "4b29fa89",
   "metadata": {},
   "outputs": [],
   "source": [
    "from sklearn.model_selection import train_test_split\n",
    "from tensorflow.keras.utils import to_categorical"
   ]
  },
  {
   "cell_type": "code",
   "execution_count": null,
   "id": "ca962673",
   "metadata": {},
   "outputs": [],
   "source": [
    "y = to_categorical(labels).astype(int)\n",
    "X_train, X_test, y_train, y_test = train_test_split(X, y, test_size=0.05) #split data into training and testing sets\n",
    "y_test.shape"
   ]
  },
  {
   "cell_type": "code",
   "execution_count": null,
   "id": "0c4ffd32",
   "metadata": {},
   "outputs": [],
   "source": [
    "### STEP 7 ###\n",
    "from tensorflow.keras.models import Sequential\n",
    "from tensorflow.keras.layers import LSTM, Dense, BatchNormalization, Flatten\n",
    "from tensorflow.keras.callbacks import TensorBoard"
   ]
  },
  {
   "cell_type": "code",
   "execution_count": null,
   "id": "06176ec6",
   "metadata": {},
   "outputs": [],
   "source": [
    "log_dir = os.path.join('Logs')\n",
    "tb_callback = TensorBoard(log_dir=log_dir)"
   ]
  },
  {
   "cell_type": "code",
   "execution_count": null,
   "id": "2ff45d7e",
   "metadata": {},
   "outputs": [],
   "source": [
    "### STEP 8 ###\n",
    "model = Sequential()\n",
    "model.add(LSTM(64, return_sequences=True, activation='relu', input_shape=(10,258)))\n",
    "model.add(LSTM(128, return_sequences=True, activation='relu'))\n",
    "model.add(LSTM(64, return_sequences=False, activation='relu'))\n",
    "model.add(Dense(64, activation='relu'))\n",
    "model.add(Dense(32, activation='relu'))\n",
    "model.add(Dense(actions.shape[0], activation='softmax'))"
   ]
  },
  {
   "cell_type": "code",
   "execution_count": null,
   "id": "72dfbb92",
   "metadata": {},
   "outputs": [],
   "source": [
    "model.compile(optimizer='Adam', loss='categorical_crossentropy', metrics=['categorical_accuracy'])\n",
    "model.fit(X_train, y_train, epochs=1500, callbacks=[tb_callback]) #run training\n",
    "model.summary()"
   ]
  },
  {
   "cell_type": "code",
   "execution_count": null,
   "id": "9f13df06",
   "metadata": {},
   "outputs": [],
   "source": [
    "res = model.predict(X_test)"
   ]
  },
  {
   "cell_type": "code",
   "execution_count": null,
   "id": "5483b38e",
   "metadata": {},
   "outputs": [],
   "source": [
    "actions[np.argmax(res[14])] #preliminary testing"
   ]
  },
  {
   "cell_type": "code",
   "execution_count": null,
   "id": "e10f5daf",
   "metadata": {},
   "outputs": [],
   "source": [
    "actions[np.argmax(y_test[14])]"
   ]
  },
  {
   "cell_type": "code",
   "execution_count": null,
   "id": "6d1ee12d",
   "metadata": {},
   "outputs": [],
   "source": [
    "model.save('action.h5') #to be used in case of corruption"
   ]
  },
  {
   "cell_type": "code",
   "execution_count": null,
   "id": "73306a76",
   "metadata": {},
   "outputs": [],
   "source": [
    "### STEP 9 ###\n",
    "model.load('action.h5') #use to load in pre-trained model"
   ]
  },
  {
   "cell_type": "code",
   "execution_count": null,
   "id": "20c2fb33",
   "metadata": {},
   "outputs": [],
   "source": [
    "from sklearn.metrics import multilabel_confusion_matrix, accuracy_score"
   ]
  },
  {
   "cell_type": "code",
   "execution_count": null,
   "id": "efebc86b",
   "metadata": {},
   "outputs": [],
   "source": [
    "yhat = model.predict(X_test)"
   ]
  },
  {
   "cell_type": "code",
   "execution_count": null,
   "id": "472af464",
   "metadata": {},
   "outputs": [],
   "source": [
    "ytrue = np.argmax(y_test, axis=1).tolist()\n",
    "yhat = np.argmax(yhat, axis=1).tolist()"
   ]
  },
  {
   "cell_type": "code",
   "execution_count": null,
   "id": "2e5d6c28",
   "metadata": {},
   "outputs": [],
   "source": [
    "multilabel_confusion_matrix(ytrue, yhat)"
   ]
  },
  {
   "cell_type": "code",
   "execution_count": null,
   "id": "9cd3f251",
   "metadata": {},
   "outputs": [],
   "source": [
    "accuracy_score(ytrue, yhat)"
   ]
  },
  {
   "cell_type": "code",
   "execution_count": null,
   "id": "6e6d7874",
   "metadata": {},
   "outputs": [],
   "source": [
    "### STEP 10 ###\n",
    "from scipy import stats"
   ]
  },
  {
   "cell_type": "code",
   "execution_count": null,
   "id": "fb6413da",
   "metadata": {},
   "outputs": [],
   "source": [
    "### STEP 11 ###\n",
    "## Testing in real time\n",
    "sequence = []\n",
    "sentence = \"\"\n",
    "predictions = []\n",
    "threshold = 0.99\n",
    "\n",
    "cap = cv2.VideoCapture(0)\n",
    "# Set model \n",
    "with mpHolistic.Holistic(min_detection_confidence=0.5, min_tracking_confidence=0.5) as holistic:\n",
    "    while cap.isOpened():\n",
    "\n",
    "        # Read feed\n",
    "        ret, frame = cap.read()\n",
    "\n",
    "        # Make detections\n",
    "        image, results = mp_detection(frame, holistic)\n",
    "        print(results)\n",
    "        \n",
    "        # Draw landmarks\n",
    "        draw_styled_landmarks(image, results)\n",
    "        \n",
    "        # Prediction logic\n",
    "        keypoints = extract_keypoints(results)\n",
    "        sequence.append(keypoints)\n",
    "        sequence = sequence[-10:]\n",
    "        \n",
    "        if len(sequence) == 10:\n",
    "            res = model.predict(np.expand_dims(sequence, axis=0))[0]\n",
    "            #print(actions[np.argmax(res)])\n",
    "            predictions.append(np.argmax(res))\n",
    "            \n",
    "            \n",
    "        # Display word on screen\n",
    "            if np.unique(predictions[-10:])[0]==np.argmax(res): \n",
    "                if res[np.argmax(res)] > threshold: \n",
    "                    sentence = actions[np.argmax(res)]\n",
    "                    \n",
    "                else: \n",
    "                    sentence = \"\"\n",
    "\n",
    "            \n",
    "        cv2.rectangle(image, (0,0), (640, 40), (0, 0, 0), -1)\n",
    "        cv2.putText(image, ' '.join(sentence), (3,30), \n",
    "                       cv2.FONT_HERSHEY_SIMPLEX, 1, (255, 255, 255), 2, cv2.LINE_AA)\n",
    "        \n",
    "        # Show to screen\n",
    "        cv2.imshow('OpenCV Feed', image)\n",
    "\n",
    "        # Break gracefully\n",
    "        if cv2.waitKey(10) & 0xFF == ord('q'):\n",
    "            break\n",
    "    cap.release()\n",
    "    cv2.destroyAllWindows()"
   ]
  },
  {
   "cell_type": "code",
   "execution_count": null,
   "id": "5332dd88",
   "metadata": {},
   "outputs": [],
   "source": []
  },
  {
   "cell_type": "code",
   "execution_count": null,
   "id": "c3d5f624",
   "metadata": {},
   "outputs": [],
   "source": []
  }
 ],
 "metadata": {
  "kernelspec": {
   "display_name": "Python 3 (ipykernel)",
   "language": "python",
   "name": "python3"
  },
  "language_info": {
   "codemirror_mode": {
    "name": "ipython",
    "version": 3
   },
   "file_extension": ".py",
   "mimetype": "text/x-python",
   "name": "python",
   "nbconvert_exporter": "python",
   "pygments_lexer": "ipython3",
   "version": "3.10.4"
  }
 },
 "nbformat": 4,
 "nbformat_minor": 5
}
