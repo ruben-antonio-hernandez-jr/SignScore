{
 "cells": [
  {
   "cell_type": "code",
   "execution_count": 1,
   "id": "e9ac9c5c-2f58-4124-b1b0-d8b07b1eb8b3",
   "metadata": {},
   "outputs": [],
   "source": [
    "import cv2\n",
    "import mediapipe as mp"
   ]
  },
  {
   "cell_type": "code",
   "execution_count": 7,
   "id": "0d06e130-01de-4754-9718-23dd28922793",
   "metadata": {},
   "outputs": [],
   "source": [
    "mp_holistic = mp.solutions.holistic\n",
    "\n",
    "drawing = mp.solutions.drawing_utils\n",
    "drawing_styles = mp.solutions.drawing_styles"
   ]
  },
  {
   "cell_type": "code",
   "execution_count": 32,
   "id": "b7738486-267c-4923-93c9-a0066756e6d0",
   "metadata": {},
   "outputs": [],
   "source": [
    "def prep_frames(frame):\n",
    "    frame.flags.writeable = False\n",
    "    frame = cv2.cvtColor(frame, cv2.COLOR_BGR2RGB)\n",
    "    results = holistic.process(frame)\n",
    "\n",
    "    frame.flags.writeable = False\n",
    "    frame = cv2.cvtColor(frame, cv2.COLOR_RGB2BGR)\n",
    "\n",
    "    return frame, results"
   ]
  },
  {
   "cell_type": "code",
   "execution_count": 33,
   "id": "98299d21-1ea6-43a9-a22b-f97f15fb815b",
   "metadata": {},
   "outputs": [],
   "source": [
    "def draw_landmarks(frame, results):\n",
    "    drawing.draw_landmarks(\n",
    "        frame, results.pose_landmarks, mp_holistic.POSE_CONNECTIONS)\n",
    "    drawing.draw_landmarks(\n",
    "        frame, results.left_hand_landmarks, mp_holistic.HAND_CONNECTIONS)\n",
    "    drawing.draw_landmarks(\n",
    "        frame, results.right_hand_landmarks, mp_holistic.HAND_CONNECTIONS)"
   ]
  },
  {
   "cell_type": "code",
   "execution_count": 34,
   "id": "49fb24e6-bf0c-4515-9dca-0e5442822db3",
   "metadata": {},
   "outputs": [],
   "source": [
    "vid = cv2.VideoCapture(0)\n",
    "\n",
    "with mp_holistic.Holistic(\n",
    "    min_detection_confidence=0.5, \n",
    "    min_tracking_confidence=0.5) as holistic:\n",
    "    \n",
    "    while vid.isOpened():\n",
    "        ret, frame = vid.read()\n",
    "        if not ret:\n",
    "            print(\"Video Feed Not Available\")\n",
    "            continue\n",
    "\n",
    "        frame, results = prep_frames(frame)\n",
    "\n",
    "        draw_landmarks(frame, results)\n",
    "        \n",
    "        cv2.imshow('SignScore', cv2.flip(frame, 1))\n",
    "    \n",
    "        if cv2.waitKey(1) & 0xFF == ord('q'):\n",
    "            break\n",
    "    \n",
    "    vid.release()\n",
    "    cv2.destroyAllWindows()"
   ]
  },
  {
   "cell_type": "code",
   "execution_count": 26,
   "id": "5b797410-f4ce-4169-92f6-b1090b63f381",
   "metadata": {},
   "outputs": [],
   "source": [
    "vid.release()\n",
    "cv2.destroyAllWindows()"
   ]
  },
  {
   "cell_type": "code",
   "execution_count": null,
   "id": "a6d78a70-3a00-4cfe-a321-e7512b031c98",
   "metadata": {},
   "outputs": [],
   "source": []
  }
 ],
 "metadata": {
  "kernelspec": {
   "display_name": "Python 3 (ipykernel)",
   "language": "python",
   "name": "python3"
  },
  "language_info": {
   "codemirror_mode": {
    "name": "ipython",
    "version": 3
   },
   "file_extension": ".py",
   "mimetype": "text/x-python",
   "name": "python",
   "nbconvert_exporter": "python",
   "pygments_lexer": "ipython3",
   "version": "3.12.3"
  }
 },
 "nbformat": 4,
 "nbformat_minor": 5
}
