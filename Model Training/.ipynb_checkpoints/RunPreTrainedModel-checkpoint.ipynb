{
 "cells": [
  {
   "cell_type": "code",
   "execution_count": null,
   "id": "30b41806",
   "metadata": {},
   "outputs": [],
   "source": [
    "#Run this cell if you do not have tensorflow, opencv, scikit-learn, matplotlib, or mediapipe installed\n",
    "!pip install tensorflow==2.12.0 opencv-python scikit-learn matplotlib mediapipe"
   ]
  },
  {
   "cell_type": "code",
   "execution_count": null,
   "id": "468aa227",
   "metadata": {},
   "outputs": [],
   "source": [
    "### import various necessary libraries ###\n",
    "from matplotlib import pyplot as plt\n",
    "import numpy as np\n",
    "import mediapipe as mp\n",
    "import cv2\n",
    "import os\n",
    "import time"
   ]
  },
  {
   "cell_type": "code",
   "execution_count": null,
   "id": "043ceb74",
   "metadata": {},
   "outputs": [],
   "source": [
    "### initialize holistic and drawing mediapipe variables ###\n",
    "mpHolistic = mp.solutions.holistic\n",
    "mpDrawing = mp.solutions.drawing_utils"
   ]
  },
  {
   "cell_type": "code",
   "execution_count": null,
   "id": "1016ae7d",
   "metadata": {},
   "outputs": [],
   "source": [
    "### initialize function to detect structures using mediapipe ###\n",
    "def mp_detection(image, model):\n",
    "    image = cv2.cvtColor(image, cv2.COLOR_BGR2RGB) # Write colors to RGB\n",
    "    image.flags.writeable = False                  # Image unwritable\n",
    "    results = model.process(image)                 # Process image\n",
    "    image.flags.writeable = True                   # Image writeable \n",
    "    image = cv2.cvtColor(image, cv2.COLOR_RGB2BGR) # Convert colors back to BGR\n",
    "    return image, results"
   ]
  },
  {
   "cell_type": "code",
   "execution_count": null,
   "id": "52eec9c7",
   "metadata": {},
   "outputs": [],
   "source": [
    "### initialize function responsible for drawing mediapipe connections ###\n",
    "def draw_landmarks(image, results):\n",
    "    mpDrawing.draw_landmarks(image, results.pose_landmarks, mpHolistic.POSE_CONNECTIONS) # Draw pose connections\n",
    "    mpDrawing.draw_landmarks(image, results.left_hand_landmarks, mpHolistic.HAND_CONNECTIONS) # Draw left hand connections\n",
    "    mpDrawing.draw_landmarks(image, results.right_hand_landmarks, mpHolistic.HAND_CONNECTIONS) # Draw right hand connection"
   ]
  },
  {
   "cell_type": "code",
   "execution_count": null,
   "id": "25d87755",
   "metadata": {},
   "outputs": [],
   "source": [
    "### function used to add styles to landmarks ###\n",
    "def draw_styled_landmarks(image, results):\n",
    "    # Draw pose connections\n",
    "    mpDrawing.draw_landmarks(image, results.pose_landmarks, mpHolistic.POSE_CONNECTIONS,\n",
    "                             mpDrawing.DrawingSpec(color=(80,22,10), thickness=2, circle_radius=4), \n",
    "                             mpDrawing.DrawingSpec(color=(80,44,121), thickness=2, circle_radius=2)\n",
    "                             ) \n",
    "    # Draw left hand connections\n",
    "    mpDrawing.draw_landmarks(image, results.left_hand_landmarks, mpHolistic.HAND_CONNECTIONS, \n",
    "                             mpDrawing.DrawingSpec(color=(121,22,76), thickness=2, circle_radius=4), \n",
    "                             mpDrawing.DrawingSpec(color=(121,44,250), thickness=2, circle_radius=2)\n",
    "                             ) \n",
    "    # Draw right hand connections  \n",
    "    mpDrawing.draw_landmarks(image, results.right_hand_landmarks, mpHolistic.HAND_CONNECTIONS, \n",
    "                             mpDrawing.DrawingSpec(color=(245,117,66), thickness=2, circle_radius=4), \n",
    "                             mpDrawing.DrawingSpec(color=(245,66,230), thickness=2, circle_radius=2)\n",
    "                             ) "
   ]
  },
  {
   "cell_type": "code",
   "execution_count": null,
   "id": "fd1ad9cb",
   "metadata": {},
   "outputs": [],
   "source": [
    "### initialize function that extracts keypoints for landmarks ###\n",
    "def extract_keypoints(results):\n",
    "    pose = np.array([[res.x, res.y, res.z, res.visibility] for res in results.pose_landmarks.landmark]).flatten() if results.pose_landmarks else np.zeros(33*4)\n",
    "    lh = np.array([[res.x, res.y, res.z] for res in results.left_hand_landmarks.landmark]).flatten() if results.left_hand_landmarks else np.zeros(21*3)\n",
    "    rh = np.array([[res.x, res.y, res.z] for res in results.right_hand_landmarks.landmark]).flatten() if results.right_hand_landmarks else np.zeros(21*3)\n",
    "    return np.concatenate([pose, lh, rh])"
   ]
  },
  {
   "cell_type": "code",
   "execution_count": null,
   "id": "e955431c",
   "metadata": {},
   "outputs": [],
   "source": [
    "### initialize actions list with all phrases used in the model ###\n",
    "actions = np.array(['hello', 'goodbye', 'thank you', 'how', 'are you', 'take care'])"
   ]
  },
  {
   "cell_type": "code",
   "execution_count": null,
   "id": "63551884",
   "metadata": {},
   "outputs": [],
   "source": [
    "### import necessary tensorflow functions ###\n",
    "from tensorflow.keras.models import Sequential\n",
    "from tensorflow.keras.layers import LSTM, Dense, BatchNormalization, Flatten\n",
    "from tensorflow.keras.callbacks import TensorBoard"
   ]
  },
  {
   "cell_type": "code",
   "execution_count": null,
   "id": "10f9a3a6",
   "metadata": {},
   "outputs": [],
   "source": [
    "### initialize model with proper trained sequence ###\n",
    "model = Sequential()\n",
    "model.add(LSTM(64, return_sequences=True, activation='relu', input_shape=(10,258)))\n",
    "model.add(LSTM(128, return_sequences=True, activation='relu'))\n",
    "model.add(LSTM(64, return_sequences=False, activation='relu'))\n",
    "model.add(Dense(64, activation='relu'))\n",
    "model.add(Dense(32, activation='relu'))\n",
    "model.add(Dense(actions.shape[0], activation='softmax'))"
   ]
  },
  {
   "cell_type": "code",
   "execution_count": null,
   "id": "1faf8b4f",
   "metadata": {},
   "outputs": [],
   "source": [
    "### load in pre-trained model ###\n",
    "model.load_weights('action.h5')"
   ]
  },
  {
   "cell_type": "code",
   "execution_count": null,
   "id": "b1e51622",
   "metadata": {},
   "outputs": [],
   "source": [
    "### import stats library ###\n",
    "from scipy import stats"
   ]
  },
  {
   "cell_type": "code",
   "execution_count": null,
   "id": "ccb62bfb",
   "metadata": {},
   "outputs": [],
   "source": [
    "### test model in real time ###\n",
    "sequence = []\n",
    "sentence = \"\"\n",
    "predictions = []\n",
    "threshold = 0.99\n",
    "\n",
    "cap = cv2.VideoCapture(0)\n",
    "# Set model \n",
    "with mpHolistic.Holistic(min_detection_confidence=0.5, min_tracking_confidence=0.5) as holistic:\n",
    "    while cap.isOpened():\n",
    "\n",
    "        # Read feed\n",
    "        ret, frame = cap.read()\n",
    "\n",
    "        # Make detections\n",
    "        image, results = mp_detection(frame, holistic)\n",
    "        print(results)\n",
    "        \n",
    "        # Draw landmarks\n",
    "        draw_styled_landmarks(image, results)\n",
    "        \n",
    "        # Prediction logic\n",
    "        keypoints = extract_keypoints(results)\n",
    "        sequence.append(keypoints)\n",
    "        sequence = sequence[-10:]\n",
    "        \n",
    "        if len(sequence) == 10:\n",
    "            res = model.predict(np.expand_dims(sequence, axis=0))[0]\n",
    "            #print(actions[np.argmax(res)])\n",
    "            predictions.append(np.argmax(res))\n",
    "            \n",
    "            \n",
    "        # Display word on screen\n",
    "            if np.unique(predictions[-10:])[0]==np.argmax(res): \n",
    "                if res[np.argmax(res)] > threshold: \n",
    "                    sentence = actions[np.argmax(res)]\n",
    "                    \n",
    "                else: \n",
    "                    sentence = \"\"\n",
    "\n",
    "            \n",
    "        cv2.rectangle(image, (0,0), (640, 40), (0, 0, 0), -1)\n",
    "        cv2.putText(image, ' '.join(sentence), (3,30), \n",
    "                       cv2.FONT_HERSHEY_SIMPLEX, 1, (255, 255, 255), 2, cv2.LINE_AA)\n",
    "        \n",
    "        # Show to screen\n",
    "        cv2.imshow('OpenCV Feed', image)\n",
    "\n",
    "        # Break gracefully\n",
    "        if cv2.waitKey(10) & 0xFF == ord('q'):\n",
    "            break\n",
    "    cap.release()\n",
    "    cv2.destroyAllWindows()"
   ]
  }
 ],
 "metadata": {
  "kernelspec": {
   "display_name": "Python 3 (ipykernel)",
   "language": "python",
   "name": "python3"
  },
  "language_info": {
   "codemirror_mode": {
    "name": "ipython",
    "version": 3
   },
   "file_extension": ".py",
   "mimetype": "text/x-python",
   "name": "python",
   "nbconvert_exporter": "python",
   "pygments_lexer": "ipython3",
   "version": "3.10.4"
  }
 },
 "nbformat": 4,
 "nbformat_minor": 5
}
